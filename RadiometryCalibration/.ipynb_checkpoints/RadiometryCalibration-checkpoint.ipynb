{
 "cells": [
  {
   "cell_type": "code",
   "execution_count": 1,
   "metadata": {
    "scrolled": true
   },
   "outputs": [
    {
     "data": {
      "text/plain": [
       "['.././RadiometryCalibration/CalibImages/8.JPG',\n",
       " '.././RadiometryCalibration/CalibImages/9.JPG',\n",
       " '.././RadiometryCalibration/CalibImages/12.JPG',\n",
       " '.././RadiometryCalibration/CalibImages/13.JPG',\n",
       " '.././RadiometryCalibration/CalibImages/11.JPG',\n",
       " '.././RadiometryCalibration/CalibImages/10.JPG',\n",
       " '.././RadiometryCalibration/CalibImages/4.JPG',\n",
       " '.././RadiometryCalibration/CalibImages/5.JPG',\n",
       " '.././RadiometryCalibration/CalibImages/7.JPG',\n",
       " '.././RadiometryCalibration/CalibImages/6.JPG',\n",
       " '.././RadiometryCalibration/CalibImages/2.JPG',\n",
       " '.././RadiometryCalibration/CalibImages/3.JPG',\n",
       " '.././RadiometryCalibration/CalibImages/1.JPG',\n",
       " '.././RadiometryCalibration/CalibImages/0.JPG']"
      ]
     },
     "execution_count": 1,
     "metadata": {},
     "output_type": "execute_result"
    }
   ],
   "source": [
    "import glob\n",
    "import numpy as np\n",
    "import cv2\n",
    "from PIL import Image\n",
    "from sklearn import datasets, linear_model\n",
    "import matplotlib.pyplot as plt\n",
    "\n",
    "filelist = glob.glob(\".././RadiometryCalibration/CalibImages/*.JPG\")\n",
    "filelist"
   ]
  },
  {
   "cell_type": "code",
   "execution_count": 2,
   "metadata": {
    "collapsed": true
   },
   "outputs": [],
   "source": [
    "width = 3264\n",
    "length = 4928\n",
    "\n",
    "s_wi_start = int((width - 100)/2)\n",
    "s_len_start = int((length - 100)/2)"
   ]
  },
  {
   "cell_type": "code",
   "execution_count": 3,
   "metadata": {},
   "outputs": [],
   "source": [
    "def shutter_speed(filelist):\n",
    "    speed_arr = []\n",
    "    for file in filelist:\n",
    "        exif_data = Image.open(file)._getexif()\n",
    "        speed = float(exif_data[33434][0]/exif_data[33434][1])\n",
    "        speed_arr.append(speed)\n",
    "    return speed_arr\n",
    "speed_arr = shutter_speed(filelist)\n",
    "log_speed = np.log(speed_arr)"
   ]
  },
  {
   "cell_type": "code",
   "execution_count": 4,
   "metadata": {},
   "outputs": [],
   "source": [
    "def channels(filelist):\n",
    "    count = 0\n",
    "    for file in filelist:\n",
    "        img = cv2.imread(file)\n",
    "\n",
    "        if count == 0:\n",
    "            red_arr = img[s_wi_start:s_wi_start + 100, s_len_start:s_len_start + 100, 0]\n",
    "            green_arr = img[s_wi_start:s_wi_start + 100, s_len_start:s_len_start + 100, 1]\n",
    "            blue_arr = img[s_wi_start:s_wi_start + 100, s_len_start:s_len_start + 100, 2]\n",
    "        else: \n",
    "            red = img[s_wi_start:s_wi_start + 100, s_len_start:s_len_start + 100, 0]\n",
    "            green = img[s_wi_start:s_wi_start + 100, s_len_start:s_len_start + 100, 1]\n",
    "            blue = img[s_wi_start:s_wi_start + 100, s_len_start:s_len_start + 100, 2]\n",
    "\n",
    "            red_arr = np.dstack((red_arr, red))\n",
    "            green_arr = np.dstack((green_arr, green))\n",
    "            blue_arr = np.dstack((blue_arr, blue))\n",
    "        count += 1\n",
    "    return red_arr, green_arr, blue_arr\n",
    "red_arr, green_arr, blue_arr = channels(filelist)\n",
    "# plt.imshow(img_crop)\n",
    "# plt.show()"
   ]
  },
  {
   "cell_type": "code",
   "execution_count": 5,
   "metadata": {},
   "outputs": [],
   "source": [
    "red_mean = np.mean(red_arr, axis = (0,1))\n",
    "green_mean = np.mean(green_arr, axis = (0,1))\n",
    "blue_mean = np.mean(blue_arr, axis = (0,1))\n",
    "\n",
    "log_red = np.log(red_mean)\n",
    "log_green = np.log(green_mean)\n",
    "log_blue = np.log(blue_mean)"
   ]
  },
  {
   "cell_type": "code",
   "execution_count": 28,
   "metadata": {},
   "outputs": [
    {
     "name": "stdout",
     "output_type": "stream",
     "text": [
      "a = 0.557020112103\n",
      "g = 1.79526731311\n",
      "b = 7.50635225514\n"
     ]
    },
    {
     "data": {
      "image/png": "[encoded data removed]",
      "text/plain": [
       "<matplotlib.figure.Figure at 0x126b15e80>"
      ]
     },
     "metadata": {},
     "output_type": "display_data"
    },
    {
     "data": {
      "image/png": "[encoded data removed]",
      "text/plain": [
       "<matplotlib.figure.Figure at 0x1270adeb8>"
      ]
     },
     "metadata": {},
     "output_type": "display_data"
    },
    {
     "data": {
      "image/png": "[encoded data removed]",
      "text/plain": [
       "<matplotlib.figure.Figure at 0x11ad1bd68>"
      ]
     },
     "metadata": {},
     "output_type": "display_data"
    }
   ],
   "source": [
    "regr = linear_model.LinearRegression()\n",
    "\n",
    "def training(speed_arr, log_speed, mean, log_mean):\n",
    "\n",
    "    x = np.array(log_speed).reshape(len(log_speed),1)\n",
    "    y = np.array(log_mean).reshape(len(log_mean),1)\n",
    "    regr.fit(x, y)\n",
    "    a = regr.coef_[0][0]\n",
    "    b = regr.intercept_[0]\n",
    "    g = 1/a\n",
    "    print('a =', a)\n",
    "    print('g =', g)\n",
    "    print('b =', b)\n",
    "    y_predict = regr.predict(x)\n",
    "  \n",
    "    plt.scatter(speed_arr, mean, color ='Red')\n",
    "    plt.xlabel('T')\n",
    "    plt.ylabel('B\\'')\n",
    "    plt.show()\n",
    "    \n",
    "    plt.scatter(x,y,color ='Red')\n",
    "    plt.plot(x,y_predict)\n",
    "    plt.plot()\n",
    "    plt.xlabel('log(T)')\n",
    "    plt.ylabel('log(B\\')')\n",
    "    plt.show()\n",
    "\n",
    "    plt.scatter(speed_arr,np.power(mean,g),color ='Red')\n",
    "    plt.xlabel('T')\n",
    "    plt.ylabel('B\\'^g')\n",
    "    plt.show()\n",
    "\n",
    "    \n",
    "training(speed_arr, log_speed, red_mean, log_red)\n"
   ]
  },
  {
   "cell_type": "code",
   "execution_count": 26,
   "metadata": {},
   "outputs": [
    {
     "data": {
      "text/plain": [
       "[0.008,\n",
       " 0.011111111111111112,\n",
       " 0.03333333333333333,\n",
       " 0.05,\n",
       " 0.022222222222222223,\n",
       " 0.016666666666666666,\n",
       " 0.002,\n",
       " 0.002857142857142857,\n",
       " 0.005555555555555556,\n",
       " 0.004,\n",
       " 0.001,\n",
       " 0.0013333333333333333,\n",
       " 0.0006666666666666666,\n",
       " 0.0005]"
      ]
     },
     "execution_count": 26,
     "metadata": {},
     "output_type": "execute_result"
    }
   ],
   "source": [
    "speed_arr"
   ]
  },
  {
   "cell_type": "code",
   "execution_count": 27,
   "metadata": {},
   "outputs": [
    {
     "data": {
      "text/plain": [
       "array([ 144.3851,  167.0847,  234.3365,  249.0533,  213.7068,  188.9229,\n",
       "         62.7711,   83.6171,  124.4584,  102.0374,   35.996 ,   49.0273,\n",
       "         27.9851,   18.1622])"
      ]
     },
     "execution_count": 27,
     "metadata": {},
     "output_type": "execute_result"
    }
   ],
   "source": [
    "red_mean"
   ]
  },
  {
   "cell_type": "code",
   "execution_count": null,
   "metadata": {
    "collapsed": true
   },
   "outputs": [],
   "source": []
  }
 ],
 "metadata": {
  "kernelspec": {
   "display_name": "Python [conda env:py35]",
   "language": "python",
   "name": "conda-env-py35-py"
  },
  "language_info": {
   "codemirror_mode": {
    "name": "ipython",
    "version": 3
   },
   "file_extension": ".py",
   "mimetype": "text/x-python",
   "name": "python",
   "nbconvert_exporter": "python",
   "pygments_lexer": "ipython3",
   "version": "3.5.3"
  }
 },
 "nbformat": 4,
 "nbformat_minor": 2
}
