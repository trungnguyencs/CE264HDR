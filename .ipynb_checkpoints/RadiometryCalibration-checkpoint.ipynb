{
 "cells": [
  {
   "cell_type": "code",
   "execution_count": 1,
   "metadata": {
    "scrolled": true
   },
   "outputs": [
    {
     "data": {
      "text/plain": [
       "[]"
      ]
     },
     "execution_count": 1,
     "metadata": {},
     "output_type": "execute_result"
    }
   ],
   "source": [
    "import glob\n",
    "import numpy as np\n",
    "import cv2\n",
    "from PIL import Image\n",
    "from sklearn import datasets, linear_model\n",
    "import matplotlib.pyplot as plt\n",
    "\n",
    "filelist = glob.glob(\"./CalibImages/*.JPG\")\n",
    "filelist"
   ]
  },
  {
   "cell_type": "code",
   "execution_count": 2,
   "metadata": {
    "collapsed": true
   },
   "outputs": [],
   "source": [
    "width = 3264\n",
    "length = 4928\n",
    "\n",
    "s_wi_start = int((width - 100)/2)\n",
    "s_len_start = int((length - 100)/2)"
   ]
  },
  {
   "cell_type": "code",
   "execution_count": 3,
   "metadata": {
    "collapsed": true
   },
   "outputs": [],
   "source": [
    "def shutter_speed(filelist):\n",
    "    speed_arr = []\n",
    "    for file in filelist:\n",
    "        exif_data = Image.open(file)._getexif()\n",
    "        speed = float(exif_data[33434][0]/exif_data[33434][1])\n",
    "        speed_arr.append(speed)\n",
    "    return speed_arr\n",
    "speed_arr = shutter_speed(filelist)\n",
    "log_speed = np.log(speed_arr)"
   ]
  },
  {
   "cell_type": "code",
   "execution_count": 4,
   "metadata": {},
   "outputs": [],
   "source": [
    "def channels(filelist):\n",
    "    count = 0\n",
    "#     red_arr = []\n",
    "#     green_arr = []\n",
    "#     blue_arr = []\n",
    "    for file in filelist:\n",
    "        img = cv2.imread(file)\n",
    "\n",
    "        if count == 0:\n",
    "            red_arr = img[s_wi_start:s_wi_start + 100, s_len_start:s_len_start + 100, 0]\n",
    "            green_arr = img[s_wi_start:s_wi_start + 100, s_len_start:s_len_start + 100, 1]\n",
    "            blue_arr = img[s_wi_start:s_wi_start + 100, s_len_start:s_len_start + 100, 2]\n",
    "        else: \n",
    "            red = img[s_wi_start:s_wi_start + 100, s_len_start:s_len_start + 100, 0]\n",
    "            green = img[s_wi_start:s_wi_start + 100, s_len_start:s_len_start + 100, 1]\n",
    "            blue = img[s_wi_start:s_wi_start + 100, s_len_start:s_len_start + 100, 2]\n",
    "\n",
    "            red_arr = np.dstack((red_arr, red))\n",
    "            green_arr = np.dstack((green_arr, green))\n",
    "            blue_arr = np.dstack((blue_arr, blue))\n",
    "        count += 1\n",
    "    return red_arr, green_arr, blue_arr\n",
    "red_arr, green_arr, blue_arr = channels(filelist)\n",
    "# plt.imshow(img_crop)\n",
    "# plt.show()"
   ]
  },
  {
   "cell_type": "code",
   "execution_count": 5,
   "metadata": {},
   "outputs": [
    {
     "ename": "IndexError",
     "evalue": "tuple index out of range",
     "output_type": "error",
     "traceback": [
      "\u001b[0;31m---------------------------------------------------------------------------\u001b[0m",
      "\u001b[0;31mIndexError\u001b[0m                                Traceback (most recent call last)",
      "\u001b[0;32m<ipython-input-5-f36f436bef30>\u001b[0m in \u001b[0;36m<module>\u001b[0;34m()\u001b[0m\n\u001b[0;32m----> 1\u001b[0;31m \u001b[0mred_mean\u001b[0m \u001b[0;34m=\u001b[0m \u001b[0mnp\u001b[0m\u001b[0;34m.\u001b[0m\u001b[0mmean\u001b[0m\u001b[0;34m(\u001b[0m\u001b[0mred_arr\u001b[0m\u001b[0;34m,\u001b[0m \u001b[0maxis\u001b[0m \u001b[0;34m=\u001b[0m \u001b[0;34m(\u001b[0m\u001b[0;36m0\u001b[0m\u001b[0;34m,\u001b[0m\u001b[0;36m1\u001b[0m\u001b[0;34m)\u001b[0m\u001b[0;34m)\u001b[0m\u001b[0;34m\u001b[0m\u001b[0m\n\u001b[0m\u001b[1;32m      2\u001b[0m \u001b[0mgreen_mean\u001b[0m \u001b[0;34m=\u001b[0m \u001b[0mnp\u001b[0m\u001b[0;34m.\u001b[0m\u001b[0mmean\u001b[0m\u001b[0;34m(\u001b[0m\u001b[0mgreen_arr\u001b[0m\u001b[0;34m,\u001b[0m \u001b[0maxis\u001b[0m \u001b[0;34m=\u001b[0m \u001b[0;34m(\u001b[0m\u001b[0;36m0\u001b[0m\u001b[0;34m,\u001b[0m\u001b[0;36m1\u001b[0m\u001b[0;34m)\u001b[0m\u001b[0;34m)\u001b[0m\u001b[0;34m\u001b[0m\u001b[0m\n\u001b[1;32m      3\u001b[0m \u001b[0mblue_mean\u001b[0m \u001b[0;34m=\u001b[0m \u001b[0mnp\u001b[0m\u001b[0;34m.\u001b[0m\u001b[0mmean\u001b[0m\u001b[0;34m(\u001b[0m\u001b[0mblue_arr\u001b[0m\u001b[0;34m,\u001b[0m \u001b[0maxis\u001b[0m \u001b[0;34m=\u001b[0m \u001b[0;34m(\u001b[0m\u001b[0;36m0\u001b[0m\u001b[0;34m,\u001b[0m\u001b[0;36m1\u001b[0m\u001b[0;34m)\u001b[0m\u001b[0;34m)\u001b[0m\u001b[0;34m\u001b[0m\u001b[0m\n\u001b[1;32m      4\u001b[0m \u001b[0;34m\u001b[0m\u001b[0m\n\u001b[1;32m      5\u001b[0m \u001b[0mlog_red\u001b[0m \u001b[0;34m=\u001b[0m \u001b[0mnp\u001b[0m\u001b[0;34m.\u001b[0m\u001b[0mlog\u001b[0m\u001b[0;34m(\u001b[0m\u001b[0mred_mean\u001b[0m\u001b[0;34m)\u001b[0m\u001b[0;34m\u001b[0m\u001b[0m\n",
      "\u001b[0;32m/Users/trungnguyen/anaconda/envs/py35/lib/python3.5/site-packages/numpy/core/fromnumeric.py\u001b[0m in \u001b[0;36mmean\u001b[0;34m(a, axis, dtype, out, keepdims)\u001b[0m\n\u001b[1;32m   2887\u001b[0m \u001b[0;34m\u001b[0m\u001b[0m\n\u001b[1;32m   2888\u001b[0m     return _methods._mean(a, axis=axis, dtype=dtype,\n\u001b[0;32m-> 2889\u001b[0;31m                           out=out, **kwargs)\n\u001b[0m\u001b[1;32m   2890\u001b[0m \u001b[0;34m\u001b[0m\u001b[0m\n\u001b[1;32m   2891\u001b[0m \u001b[0;34m\u001b[0m\u001b[0m\n",
      "\u001b[0;32m/Users/trungnguyen/anaconda/envs/py35/lib/python3.5/site-packages/numpy/core/_methods.py\u001b[0m in \u001b[0;36m_mean\u001b[0;34m(a, axis, dtype, out, keepdims)\u001b[0m\n\u001b[1;32m     55\u001b[0m \u001b[0;34m\u001b[0m\u001b[0m\n\u001b[1;32m     56\u001b[0m     \u001b[0mis_float16_result\u001b[0m \u001b[0;34m=\u001b[0m \u001b[0;32mFalse\u001b[0m\u001b[0;34m\u001b[0m\u001b[0m\n\u001b[0;32m---> 57\u001b[0;31m     \u001b[0mrcount\u001b[0m \u001b[0;34m=\u001b[0m \u001b[0m_count_reduce_items\u001b[0m\u001b[0;34m(\u001b[0m\u001b[0marr\u001b[0m\u001b[0;34m,\u001b[0m \u001b[0maxis\u001b[0m\u001b[0;34m)\u001b[0m\u001b[0;34m\u001b[0m\u001b[0m\n\u001b[0m\u001b[1;32m     58\u001b[0m     \u001b[0;31m# Make this warning show up first\u001b[0m\u001b[0;34m\u001b[0m\u001b[0;34m\u001b[0m\u001b[0m\n\u001b[1;32m     59\u001b[0m     \u001b[0;32mif\u001b[0m \u001b[0mrcount\u001b[0m \u001b[0;34m==\u001b[0m \u001b[0;36m0\u001b[0m\u001b[0;34m:\u001b[0m\u001b[0;34m\u001b[0m\u001b[0m\n",
      "\u001b[0;32m/Users/trungnguyen/anaconda/envs/py35/lib/python3.5/site-packages/numpy/core/_methods.py\u001b[0m in \u001b[0;36m_count_reduce_items\u001b[0;34m(arr, axis)\u001b[0m\n\u001b[1;32m     48\u001b[0m     \u001b[0mitems\u001b[0m \u001b[0;34m=\u001b[0m \u001b[0;36m1\u001b[0m\u001b[0;34m\u001b[0m\u001b[0m\n\u001b[1;32m     49\u001b[0m     \u001b[0;32mfor\u001b[0m \u001b[0max\u001b[0m \u001b[0;32min\u001b[0m \u001b[0maxis\u001b[0m\u001b[0;34m:\u001b[0m\u001b[0;34m\u001b[0m\u001b[0m\n\u001b[0;32m---> 50\u001b[0;31m         \u001b[0mitems\u001b[0m \u001b[0;34m*=\u001b[0m \u001b[0marr\u001b[0m\u001b[0;34m.\u001b[0m\u001b[0mshape\u001b[0m\u001b[0;34m[\u001b[0m\u001b[0max\u001b[0m\u001b[0;34m]\u001b[0m\u001b[0;34m\u001b[0m\u001b[0m\n\u001b[0m\u001b[1;32m     51\u001b[0m     \u001b[0;32mreturn\u001b[0m \u001b[0mitems\u001b[0m\u001b[0;34m\u001b[0m\u001b[0m\n\u001b[1;32m     52\u001b[0m \u001b[0;34m\u001b[0m\u001b[0m\n",
      "\u001b[0;31mIndexError\u001b[0m: tuple index out of range"
     ]
    }
   ],
   "source": [
    "red_mean = np.mean(red_arr, axis = (0,1))\n",
    "green_mean = np.mean(green_arr, axis = (0,1))\n",
    "blue_mean = np.mean(blue_arr, axis = (0,1))\n",
    "\n",
    "log_red = np.log(red_mean)\n",
    "log_green = np.log(green_mean)\n",
    "log_blue = np.log(blue_mean)"
   ]
  },
  {
   "cell_type": "code",
   "execution_count": null,
   "metadata": {
    "scrolled": false
   },
   "outputs": [],
   "source": [
    "regr = linear_model.LinearRegression()\n",
    "\n",
    "def training(speed_arr, log_speed, mean, log_mean):\n",
    "\n",
    "    x = np.array(log_speed).reshape(len(log_speed),1)\n",
    "    y = np.array(log_mean).reshape(len(log_mean),1)\n",
    "    regr.fit(x, y)\n",
    "    a = regr.coef_[0][0]\n",
    "    b = regr.intercept_[0]\n",
    "    g = 1/a\n",
    "    print('a =', a)\n",
    "    print('g =', g)\n",
    "    print('b =', b)\n",
    "    y_predict = regr.predict(x)\n",
    "  \n",
    "    plt.scatter(speed_arr, mean, color ='Red')\n",
    "    plt.xlabel('T')\n",
    "    plt.ylabel('B\\'')\n",
    "    plt.show()\n",
    "    \n",
    "    plt.scatter(x,y,color ='Red')\n",
    "    plt.plot(x,y_predict)\n",
    "    plt.plot()\n",
    "    plt.xlabel('log(T)')\n",
    "    plt.ylabel('log(B\\')')\n",
    "    plt.show()\n",
    "\n",
    "    plt.scatter(speed_arr,np.power(mean,g),color ='Red')\n",
    "    plt.xlabel('T')\n",
    "    plt.ylabel('B\\'^g')\n",
    "    plt.show()\n",
    "\n",
    "    \n",
    "training(speed_arr, log_speed, red_mean, log_red)\n",
    "training(speed_arr, log_speed, green_mean, log_green)\n",
    "training(speed_arr, log_speed, blue_mean, log_blue)\n"
   ]
  }
 ],
 "metadata": {
  "kernelspec": {
   "display_name": "Python [conda env:py35]",
   "language": "python",
   "name": "conda-env-py35-py"
  },
  "language_info": {
   "codemirror_mode": {
    "name": "ipython",
    "version": 3
   },
   "file_extension": ".py",
   "mimetype": "text/x-python",
   "name": "python",
   "nbconvert_exporter": "python",
   "pygments_lexer": "ipython3",
   "version": "3.5.3"
  }
 },
 "nbformat": 4,
 "nbformat_minor": 2
}
