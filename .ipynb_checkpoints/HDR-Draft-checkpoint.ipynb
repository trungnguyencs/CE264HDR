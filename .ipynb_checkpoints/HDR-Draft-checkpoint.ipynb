{
 "cells": [
  {
   "cell_type": "code",
   "execution_count": 1,
   "metadata": {
    "scrolled": true
   },
   "outputs": [
    {
     "data": {
      "text/plain": [
       "['./PictureStackImages/8.JPG',\n",
       " './PictureStackImages/12.JPG',\n",
       " './PictureStackImages/5.JPG']"
      ]
     },
     "execution_count": 1,
     "metadata": {},
     "output_type": "execute_result"
    }
   ],
   "source": [
    "import glob\n",
    "import numpy as np\n",
    "import cv2\n",
    "from PIL import Image\n",
    "from sklearn import datasets, linear_model\n",
    "import matplotlib.pyplot as plt\n",
    "\n",
    "filelist = glob.glob(\"./PictureStackImages/*.JPG\")\n",
    "filelist"
   ]
  },
  {
   "cell_type": "code",
   "execution_count": 2,
   "metadata": {
    "collapsed": true
   },
   "outputs": [],
   "source": [
    "g = [1.79526731311, 1.85695064051, 1.69743757856]"
   ]
  },
  {
   "cell_type": "code",
   "execution_count": 3,
   "metadata": {
    "collapsed": true
   },
   "outputs": [],
   "source": [
    "def shutter_speed(filelist):\n",
    "    speed_arr = []\n",
    "    for file in filelist:\n",
    "        exif_data = Image.open(file)._getexif()\n",
    "        speed = float(10/exif_data[33434][1])\n",
    "        speed_arr.append(speed)\n",
    "    return speed_arr\n",
    "speed_arr = shutter_speed(filelist)\n",
    "log_speed = np.log(speed_arr)\n",
    "\n",
    "a1 = float(speed_arr[0]/speed_arr[2])\n",
    "a2 = float(speed_arr[1]/speed_arr[2])"
   ]
  },
  {
   "cell_type": "code",
   "execution_count": 4,
   "metadata": {
    "collapsed": true
   },
   "outputs": [],
   "source": [
    "im11 = cv2.imread(filelist[2])\n",
    "im21 = cv2.imread(filelist[0])\n",
    "im31 = cv2.imread(filelist[1])\n",
    "img_list = [cv2.imread(file) for file in filelist]"
   ]
  },
  {
   "cell_type": "code",
   "execution_count": 5,
   "metadata": {},
   "outputs": [
    {
     "ename": "SyntaxError",
     "evalue": "invalid syntax (<ipython-input-5-9b5f098a0ca3>, line 6)",
     "output_type": "error",
     "traceback": [
      "\u001b[0;36m  File \u001b[0;32m\"<ipython-input-5-9b5f098a0ca3>\"\u001b[0;36m, line \u001b[0;32m6\u001b[0m\n\u001b[0;31m    len_start = int((length - 1sample_size)/2)\u001b[0m\n\u001b[0m                                         ^\u001b[0m\n\u001b[0;31mSyntaxError\u001b[0m\u001b[0;31m:\u001b[0m invalid syntax\n"
     ]
    }
   ],
   "source": [
    "width = 3264\n",
    "length = 4928\n",
    "\n",
    "sample_size = 1000\n",
    "wi_start = int((width - sample_size)/2)\n",
    "len_start = int((length - sample_size)/2)\n",
    "\n",
    "im1 = im11[wi_start:wi_start + sample_size, len_start:len_start + sample_size, :]\n",
    "im2 = im21[wi_start:wi_start + sample_size, len_start:len_start + sample_size, :]\n",
    "im3 = im31[wi_start:wi_start + sample_size, len_start:len_start + sample_size, :]"
   ]
  },
  {
   "cell_type": "code",
   "execution_count": null,
   "metadata": {
    "scrolled": false
   },
   "outputs": [],
   "source": [
    "plt.figure(figsize=(12,6)); plt.imshow(cv2.cvtColor(im1, cv2.COLOR_BGR2RGB)); plt.show()\n",
    "plt.figure(figsize=(12,6)); plt.imshow(cv2.cvtColor(im2, cv2.COLOR_BGR2RGB)); plt.show()\n",
    "plt.figure(figsize=(12,6)); plt.imshow(cv2.cvtColor(im3, cv2.COLOR_BGR2RGB)); plt.show()"
   ]
  },
  {
   "cell_type": "code",
   "execution_count": null,
   "metadata": {
    "collapsed": true
   },
   "outputs": [],
   "source": [
    "im1b = np.zeros(im1.shape, np.float32)\n",
    "im2b = np.zeros(im1.shape, np.float32)\n",
    "im3b = np.zeros(im1.shape, np.float32)\n",
    "\n",
    "for i in range(3):\n",
    "    im1b[:,:,i] = np.power(im1[:,:,i],g[i])\n",
    "    im2b[:,:,i] = np.power(im2[:,:,i],g[i])\n",
    "    im3b[:,:,i] = np.power(im3[:,:,i],g[i])"
   ]
  },
  {
   "cell_type": "code",
   "execution_count": null,
   "metadata": {
    "scrolled": false
   },
   "outputs": [],
   "source": [
    "hdr_im1 = np.zeros(im1.shape, np.float32)\n",
    "hdr_im1b = np.zeros(im1.shape, np.float32)\n",
    "for i in range(im1.shape[0]):\n",
    "    for j in range(im1.shape[1]):\n",
    "        if im3[i,j,0] < 255 and im3[i,j,1] < 255 and im3[i,j,2] < 255:\n",
    "            hdr_im1[i,j,:] = im3[i,j,:]/a2\n",
    "            hdr_im1b[i,j,:] = im3b[i,j,:]/a2\n",
    "        elif im2[i,j,0] < 255 and im2[i,j,1] < 255 and im2[i,j,2] < 255:\n",
    "            hdr_im1[i,j,:] = im2[i,j,:]/a1\n",
    "            hdr_im1b[i,j,:] = im2b[i,j,:]/a1  \n",
    "        else:\n",
    "            hdr_im1[i,j,:] = im1[i,j,:]\n",
    "            hdr_im1b[i,j,:] = im1b[i,j,:]  \n",
    "            \n",
    "# plt.figure(figsize=(12,6)); plt.imshow(cv2.cvtColor(hdr_im1, cv2.COLOR_BGR2RGB)); plt.show() \n",
    "\n",
    "tonemap1 = cv2.createTonemapDurand(gamma=2.2)\n",
    "res_debvec = tonemap1.process(hdr_im1b.copy())\n",
    "res_debvec_8bit = np.clip(res_debvec*255, 0, 255).astype('uint8')\n",
    "plt.figure(figsize=(12,6)); plt.imshow(cv2.cvtColor(res_debvec_8bit, cv2.COLOR_BGR2RGB)); plt.show() \n",
    "# cv2.imwrite(\"./TonemappedImages/hdr1_debve.jpg\", res_debvec_8bit)\n",
    "\n",
    "merge_mertens = cv2.createMergeMertens()\n",
    "res_mertens = merge_mertens.process(img_list)\n",
    "res_mertens_8bit = np.clip(res_mertens*255, 0, 255).astype('uint8')\n",
    "plt.figure(figsize=(12,6)); plt.imshow(cv2.cvtColor(res_debvec_8bit, cv2.COLOR_BGR2RGB)); plt.show() \n",
    "# cv2.imwrite(\"./TonemappedImages/hdr1_fusion_mertens.jpg\", res_mertens_8bit)\n"
   ]
  },
  {
   "cell_type": "code",
   "execution_count": null,
   "metadata": {},
   "outputs": [],
   "source": [
    "hdr_im1b"
   ]
  },
  {
   "cell_type": "code",
   "execution_count": null,
   "metadata": {},
   "outputs": [],
   "source": [
    "hdr_im1c = hdr_im1b\n",
    "hdr_im1c[:,:,0] = hdr_im1b[:,:,0]/255**(g[0]-1)\n",
    "hdr_im1c[:,:,1] = hdr_im1b[:,:,1]/255**(g[1]-1)\n",
    "hdr_im1c[:,:,2] = hdr_im1b[:,:,2]/255**(g[2]-1)\n",
    "plt.figure(figsize=(8,4)); plt.hist(hdr_im1c[:,:,0].ravel(),256,[0,256]); plt.show()\n",
    "plt.figure(figsize=(8,4)); plt.hist(hdr_im1c[:,:,1].ravel(),256,[0,256]); plt.show()\n",
    "plt.figure(figsize=(8,4)); plt.hist(hdr_im1c[:,:,2].ravel(),256,[0,256]); plt.show()"
   ]
  },
  {
   "cell_type": "code",
   "execution_count": null,
   "metadata": {},
   "outputs": [],
   "source": [
    "merge_mertens = cv2.createMergeMertens()\n",
    "res_mertens = merge_mertens.process(img_list)\n",
    "res_mertens_8bit = np.clip(res_mertens*255, 0, 255).astype('uint8')\n",
    "plt.figure(figsize=(12,6)); plt.imshow(cv2.cvtColor(res_mertens_8bit, cv2.COLOR_BGR2RGB)); plt.show() \n",
    "# cv2.imwrite(\"./TonemappedImages/hdr1_fusion_mertens.jpg\", res_mertens_8bit)"
   ]
  },
  {
   "cell_type": "code",
   "execution_count": null,
   "metadata": {},
   "outputs": [],
   "source": [
    "plt.figure(figsize=(8,4)); plt.hist(res_debvec_8bit[:,:,0].ravel(),256,[0,256]); plt.show()\n",
    "plt.figure(figsize=(8,4)); plt.hist(res_debvec_8bit[:,:,1].ravel(),256,[0,256]); plt.show()\n",
    "plt.figure(figsize=(8,4)); plt.hist(res_debvec_8bit[:,:,2].ravel(),256,[0,256]); plt.show()"
   ]
  },
  {
   "cell_type": "code",
   "execution_count": null,
   "metadata": {},
   "outputs": [],
   "source": [
    "hdr_im2 = np.zeros(im1.shape, np.float32)\n",
    "hdr_im2b = np.zeros(im1.shape, np.float32)\n",
    "for i in range(im1.shape[0]):\n",
    "    for j in range(im1.shape[1]):\n",
    "        # Case 1: pixel is not saturated in any image\n",
    "        if im3[i,j,0] < 255 and im3[i,j,1] < 255 and im3[i,j,2] < 255:\n",
    "            hdr_im2[i,j,:] = (im3[i,j,:]/a2 + im2[i,j,:]/a1 + im1[i,j,:])/3\n",
    "            hdr_im2b[i,j,:] = (im3b[i,j,:]/a2 + im2b[i,j,:]/a1 + im1b[i,j,:])/3\n",
    "        # Case 2: pixel is not saturated in image 3 but not in image 2\n",
    "        elif im2[i,j,0] < 255 and im2[i,j,1] < 255 and im2[i,j,2] < 255:\n",
    "            hdr_im2[i,j,:] = (im2[i,j,:]/a1 + im1[i,j,:])/2\n",
    "            hdr_im2b[i,j,:] = (im2b[i,j,:]/a1 + im1b[i,j,:])/2\n",
    "        # Case 3: pixel is not saturated in image 3 but not in image 2\n",
    "        else:\n",
    "            hdr_im2[i,j,:] = im2[i,j,:]\n",
    "            hdr_im2b[i,j,:] = im1b[i,j,:]  \n",
    "            \n",
    "#Tone-mapping: using Debvec Tone-mapping from the package provided by OpenCV with gamma = 2.2\n",
    "#Reference: https://docs.opencv.org/3.4/d2/df0/tutorial_py_hdr.html\n",
    "\n",
    "tonemap1 = cv2.createTonemapDurand(gamma=2.2)\n",
    "res_debvec = tonemap1.process(hdr_im2b.copy())\n",
    "res_debvec_8bit = np.clip(res_debvec*255, 0, 255).astype('uint8')\n",
    "#Plot the resulting image:\n",
    "plt.figure(figsize=(12,6)); plt.imshow(cv2.cvtColor(res_debvec_8bit, cv2.COLOR_BGR2RGB))\n",
    "plt.suptitle('HDR image by algorithm 2 (averaging)', fontsize=16) ; plt.show()\n",
    "#Write to file:\n",
    "# cv2.imwrite(\"./TonemappedImages/hdr2.jpg\", res_debvec_8bit)\n",
    "\n",
    "#Using Merge Mertens technique:\n",
    "img_list = [cv2.imread(file) for file in filelist]\n",
    "merge_mertens = cv2.createMergeMertens()\n",
    "res_mertens = merge_mertens.process(img_list)\n",
    "res_mertens_8bit = np.clip(res_mertens*255, 0, 255).astype('uint8')\n",
    "#Plot the resulting image:\n",
    "plt.figure(figsize=(12,6)); plt.imshow(cv2.cvtColor(res_mertens_8bit, cv2.COLOR_BGR2RGB))\n",
    "plt.suptitle('HDR image by Merge Mertens technique', fontsize=16) ; plt.show()\n",
    "#Write to file:\n",
    "# cv2.imwrite(\"./TonemappedImages/hdr_fusion_mertens.jpg\", res_mertens_8bit)"
   ]
  },
  {
   "cell_type": "code",
   "execution_count": null,
   "metadata": {},
   "outputs": [],
   "source": [
    "hdr_im2b"
   ]
  },
  {
   "cell_type": "code",
   "execution_count": null,
   "metadata": {
    "scrolled": true
   },
   "outputs": [],
   "source": [
    "plt.figure(figsize=(15,3)); \n",
    "plt.subplot(1,3,1); plt.hist(hdr_im2[:,:,0].ravel(),256,[0,255]) \n",
    "plt.subplot(1,3,2); plt.hist(hdr_im2[:,:,1].ravel(),256,[0,256])\n",
    "plt.subplot(1,3,3); plt.hist(hdr_im2[:,:,2].ravel(),256,[0,256])\n",
    "plt.suptitle('Histogram for the HDR image by method 2 (B\\') ')\n",
    "plt.show()"
   ]
  },
  {
   "cell_type": "code",
   "execution_count": null,
   "metadata": {},
   "outputs": [],
   "source": [
    "plt.figure(figsize=(15,3)); \n",
    "plt.subplot(1,3,1); plt.hist(hdr_im2b[:,:,0].ravel(),256,[0,255**g[0]]) \n",
    "plt.subplot(1,3,2); plt.hist(hdr_im2b[:,:,1].ravel(),256,[0,255**g[1]])\n",
    "plt.subplot(1,3,3); plt.hist(hdr_im2b[:,:,2].ravel(),256,[0,255**g[2]])\n",
    "plt.suptitle('Histogram for the HDR image by method 2 (B\\'^g in 256 bins, values not scaled to [0, 255])')\n",
    "plt.show()"
   ]
  },
  {
   "cell_type": "code",
   "execution_count": null,
   "metadata": {},
   "outputs": [],
   "source": [
    "plt.figure(figsize=(8,4)); plt.hist(res_debvec_8bit[:,:,0].ravel(),256,[0,256]); plt.show()\n",
    "plt.figure(figsize=(8,4)); plt.hist(res_debvec_8bit[:,:,1].ravel(),256,[0,256]); plt.show()\n",
    "plt.figure(figsize=(8,4)); plt.hist(res_debvec_8bit[:,:,2].ravel(),256,[0,256]); plt.show()"
   ]
  },
  {
   "cell_type": "code",
   "execution_count": null,
   "metadata": {
    "collapsed": true
   },
   "outputs": [],
   "source": []
  }
 ],
 "metadata": {
  "kernelspec": {
   "display_name": "Python [conda env:py35]",
   "language": "python",
   "name": "conda-env-py35-py"
  },
  "language_info": {
   "codemirror_mode": {
    "name": "ipython",
    "version": 3
   },
   "file_extension": ".py",
   "mimetype": "text/x-python",
   "name": "python",
   "nbconvert_exporter": "python",
   "pygments_lexer": "ipython3",
   "version": "3.5.3"
  }
 },
 "nbformat": 4,
 "nbformat_minor": 2
}
